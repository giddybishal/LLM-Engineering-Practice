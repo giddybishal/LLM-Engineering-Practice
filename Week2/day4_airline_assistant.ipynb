{
 "cells": [
  {
   "cell_type": "code",
   "execution_count": null,
   "id": "81ee458a",
   "metadata": {},
   "outputs": [],
   "source": [
    "import ollama\n",
    "import gradio as gr"
   ]
  },
  {
   "cell_type": "code",
   "execution_count": null,
   "id": "d15deb16",
   "metadata": {},
   "outputs": [],
   "source": [
    "MODEL = 'deepseek-v3.1:671b-cloud'\n",
    "system_message = \"\"\"\n",
    "You are a helpful assistant for an Airline called FlightAI.\n",
    "Give short, courteous answers, no more than 1 sentence.\n",
    "Always be accurate. If you don't know the answer, say so.\n",
    "\"\"\""
   ]
  },
  {
   "cell_type": "markdown",
   "id": "cf5cc482",
   "metadata": {},
   "source": [
    "## Tools\n",
    "\n",
    "Tools are an incredibly powerful feature provided by the frontier LLMs.\n",
    "\n",
    "With tools, you can write a function, and have the LLM call that function as part of its response.\n",
    "\n",
    "Sounds almost spooky.. we're giving it the power to run code on our machine?\n",
    "\n",
    "Well, kinda."
   ]
  },
  {
   "cell_type": "code",
   "execution_count": null,
   "id": "d784369b",
   "metadata": {},
   "outputs": [],
   "source": [
    "# Let's start by making a useful function\n",
    "\n",
    "ticket_prices = {'london': '$799', 'paris': '$899', 'tokyo':'$1400', 'berlin': '$499'}\n",
    "age_group_discounts = {'baby': '90%', 'children': '50%', 'elders':'30%'}\n",
    "\n",
    "def get_ticket_price(destination_city):\n",
    "    print(f'Tool get_ticket_price called for {destination_city}')\n",
    "    city = destination_city.lower()\n",
    "    return ticket_prices.get(city, 'Unknown')\n",
    "\n",
    "def get_discount(age_group):\n",
    "    print(f'Tool get_discount called for {age_group}')\n",
    "    age_group = age_group.lower()\n",
    "    return age_group_discounts.get(age_group, 'Unknown')"
   ]
  },
  {
   "cell_type": "code",
   "execution_count": null,
   "id": "7cad232a",
   "metadata": {},
   "outputs": [],
   "source": [
    "# There's a particular dictionary structure that's required to describe our function:\n",
    "\n",
    "price_function = {\n",
    "    'type': 'function',\n",
    "    'function': {\n",
    "        \"name\": \"get_ticket_price\",\n",
    "        \"description\": \"Get the price of a return ticket to the destination city.\",\n",
    "        \"parameters\": {\n",
    "            \"type\": \"object\",\n",
    "            \"properties\": {\n",
    "                \"destination_city\": {\n",
    "                    \"type\": \"string\",\n",
    "                    \"description\": \"The city that the customer wants to travel to\",\n",
    "                },\n",
    "            },\n",
    "            \"required\": [\"destination_city\"],\n",
    "            \"additionalProperties\": False\n",
    "        }\n",
    "    }\n",
    "}\n",
    "\n",
    "discount_function = {\n",
    "    'type': 'function',\n",
    "    'function': {\n",
    "        \"name\": \"get_discount\",\n",
    "        \"description\": \"The percentage of discount for people of certain age group.\",\n",
    "        \"parameters\": {\n",
    "            \"type\": \"object\",\n",
    "            \"properties\": {\n",
    "                \"age_group\": {\n",
    "                    \"type\": \"string\",\n",
    "                    \"description\": \"Approximate age group that the traveler falls into (baby, children, elders)\",\n",
    "                },\n",
    "            },\n",
    "            \"required\": [\"age_group\"],\n",
    "            \"additionalProperties\": False\n",
    "        }\n",
    "    }\n",
    "}"
   ]
  },
  {
   "cell_type": "code",
   "execution_count": null,
   "id": "6a471f8c",
   "metadata": {},
   "outputs": [],
   "source": [
    "# And this is included in a list of tools:\n",
    "\n",
    "tools = [ price_function, discount_function ]\n",
    "available_functions = {\n",
    "    'get_ticket_price': get_ticket_price,\n",
    "    'get_discount': get_discount\n",
    "}"
   ]
  },
  {
   "cell_type": "markdown",
   "id": "89cf5986",
   "metadata": {},
   "source": [
    "## Getting Ollama to use our Tool\n",
    "\n",
    "What we actually do is give the LLM the opportunity to inform us that it wants us to run the tool.\n",
    "\n",
    "Here's how the new chat function looks:"
   ]
  },
  {
   "cell_type": "code",
   "execution_count": null,
   "id": "d9e3154f",
   "metadata": {},
   "outputs": [],
   "source": [
    "def chat(message, history):\n",
    "    messages = [{'role':'system', 'content': system_message}]\n",
    "    for user_message, assistant_message in history:\n",
    "        messages.append({'role':'user', 'content': user_message})\n",
    "        messages.append({'role':'assistant', 'content': assistant_message})\n",
    "    messages.append({'role':'user', 'content': message})\n",
    "    \n",
    "    response = ollama.chat(model=MODEL, messages=messages, tools=tools)\n",
    "    \n",
    "    # using tools for ollama\n",
    "\n",
    "    if response.message.tool_calls:\n",
    "        # collect all tool outputs here\n",
    "        tool_results = []  \n",
    "\n",
    "        # There may be multiple tool calls in the response\n",
    "        for tool in response.message.tool_calls:\n",
    "            # Ensure the function is available, and then call it\n",
    "            if function_to_call := available_functions.get(tool.function.name):\n",
    "                print('Calling function:', tool.function.name)\n",
    "                print('Arguments:', tool.function.arguments)\n",
    "                output = function_to_call(**tool.function.arguments)\n",
    "                print('Function output:', output)\n",
    "\n",
    "                # store each tool result properly\n",
    "                tool_results.append({\n",
    "                    \"role\": \"tool\",\n",
    "                    \"content\": str(output),\n",
    "                    \"tool_name\": tool.function.name,\n",
    "                })\n",
    "            else:\n",
    "                print('Function', tool.function.name, 'not found')\n",
    "\n",
    "        # Add the function response to messages for the model to use\n",
    "        messages.append(response.message)\n",
    "        # messages.append({'role': 'tool', 'content': str(output), 'tool_name': tool.function.name})\n",
    "        messages.extend(tool_results)\n",
    "\n",
    "        # Get final response from model with function outputs\n",
    "        final_response = ollama.chat(model=MODEL, messages=messages)\n",
    "    \n",
    "        return final_response['message']['content']\n",
    "    \n",
    "    return response['message']['content']"
   ]
  },
  {
   "cell_type": "code",
   "execution_count": null,
   "id": "20737b07",
   "metadata": {},
   "outputs": [],
   "source": [
    "gr.ChatInterface(fn = chat).launch()"
   ]
  }
 ],
 "metadata": {
  "kernelspec": {
   "display_name": "Python 3",
   "language": "python",
   "name": "python3"
  },
  "language_info": {
   "codemirror_mode": {
    "name": "ipython",
    "version": 3
   },
   "file_extension": ".py",
   "mimetype": "text/x-python",
   "name": "python",
   "nbconvert_exporter": "python",
   "pygments_lexer": "ipython3",
   "version": "3.13.5"
  }
 },
 "nbformat": 4,
 "nbformat_minor": 5
}
