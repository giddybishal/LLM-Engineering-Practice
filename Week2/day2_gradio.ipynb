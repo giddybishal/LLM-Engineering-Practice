{
 "cells": [
  {
   "cell_type": "code",
   "execution_count": 1,
   "id": "ba38fd2e",
   "metadata": {},
   "outputs": [
    {
     "name": "stderr",
     "output_type": "stream",
     "text": [
      "c:\\Users\\Bishal\\AppData\\Local\\Programs\\Python\\Python313\\Lib\\site-packages\\tqdm\\auto.py:21: TqdmWarning: IProgress not found. Please update jupyter and ipywidgets. See https://ipywidgets.readthedocs.io/en/stable/user_install.html\n",
      "  from .autonotebook import tqdm as notebook_tqdm\n"
     ]
    }
   ],
   "source": [
    "import ollama\n",
    "import gradio as gr"
   ]
  },
  {
   "cell_type": "code",
   "execution_count": 2,
   "id": "e244e714",
   "metadata": {},
   "outputs": [],
   "source": [
    "MODEL_1 = 'deepseek-v3.1:671b-cloud'\n",
    "MODEL_2 = 'qwen3-coder:480b-cloud'\n",
    "system_prompt = 'You are a chatbot assisstant. Respond in Markdown'"
   ]
  },
  {
   "cell_type": "code",
   "execution_count": 3,
   "id": "e34b5d0d",
   "metadata": {},
   "outputs": [],
   "source": [
    "def message_model(modal, msg):\n",
    "    message = [\n",
    "        {'role': 'system', 'content': system_prompt},\n",
    "        {'role': 'user', 'content': msg}\n",
    "    ]\n",
    "    response = ollama.chat(model=modal, messages=message)\n",
    "    return response['message']['content']"
   ]
  },
  {
   "cell_type": "markdown",
   "id": "3cee427e",
   "metadata": {},
   "source": [
    "# User Interface"
   ]
  },
  {
   "cell_type": "code",
   "execution_count": 4,
   "id": "0cbde386",
   "metadata": {},
   "outputs": [],
   "source": [
    "# def shout(text):\n",
    "#     return text.upper()"
   ]
  },
  {
   "cell_type": "code",
   "execution_count": 5,
   "id": "585fdc59",
   "metadata": {},
   "outputs": [],
   "source": [
    "# Normal\n",
    "\n",
    "# view = gr.Interface(fn=shout, inputs='textbox', outputs='textbox', flagging_mode='never')\n",
    "# view.launch(share=True)"
   ]
  },
  {
   "cell_type": "code",
   "execution_count": 6,
   "id": "ef34a9a2",
   "metadata": {},
   "outputs": [],
   "source": [
    "# Markdown\n",
    "\n",
    "# view = gr.Interface(\n",
    "#     fn=message_model,\n",
    "#     inputs=[gr.Textbox(label='Your message:', lines=6)],\n",
    "#     outputs=[gr.Markdown(label='Response')],\n",
    "#     flagging_mode='never'\n",
    "# )\n",
    "# view.launch()"
   ]
  },
  {
   "cell_type": "code",
   "execution_count": 7,
   "id": "b74bdb76",
   "metadata": {},
   "outputs": [],
   "source": [
    "def stream_llm(prompt, modal):\n",
    "    messages = [\n",
    "        {'role': 'system', 'content': system_prompt},\n",
    "        {'role': 'user', 'content': prompt}\n",
    "    ]\n",
    "    stream = ollama.chat(model=modal, messages=messages, stream=True)\n",
    "    result = ''\n",
    "    for chunk in stream:\n",
    "        result += chunk['message']['content']\n",
    "        yield result"
   ]
  },
  {
   "cell_type": "code",
   "execution_count": 9,
   "id": "0b4d1f19",
   "metadata": {},
   "outputs": [
    {
     "name": "stdout",
     "output_type": "stream",
     "text": [
      "* Running on local URL:  http://127.0.0.1:7860\n",
      "* To create a public link, set `share=True` in `launch()`.\n"
     ]
    },
    {
     "data": {
      "text/html": [
       "<div><iframe src=\"http://127.0.0.1:7860/\" width=\"100%\" height=\"500\" allow=\"autoplay; camera; microphone; clipboard-read; clipboard-write;\" frameborder=\"0\" allowfullscreen></iframe></div>"
      ],
      "text/plain": [
       "<IPython.core.display.HTML object>"
      ]
     },
     "metadata": {},
     "output_type": "display_data"
    },
    {
     "data": {
      "text/plain": []
     },
     "execution_count": 9,
     "metadata": {},
     "output_type": "execute_result"
    }
   ],
   "source": [
    "# Streaming\n",
    "\n",
    "view = gr.Interface(\n",
    "    fn = stream_llm,\n",
    "    inputs=[gr.Textbox(label='Your message:'), gr.Dropdown([MODEL_1, MODEL_2], label='Select model')],\n",
    "    outputs=[gr.Markdown(label='Response')],\n",
    "    flagging_mode='never'\n",
    ")\n",
    "view.launch()"
   ]
  }
 ],
 "metadata": {
  "kernelspec": {
   "display_name": "Python 3",
   "language": "python",
   "name": "python3"
  },
  "language_info": {
   "codemirror_mode": {
    "name": "ipython",
    "version": 3
   },
   "file_extension": ".py",
   "mimetype": "text/x-python",
   "name": "python",
   "nbconvert_exporter": "python",
   "pygments_lexer": "ipython3",
   "version": "3.13.5"
  }
 },
 "nbformat": 4,
 "nbformat_minor": 5
}
