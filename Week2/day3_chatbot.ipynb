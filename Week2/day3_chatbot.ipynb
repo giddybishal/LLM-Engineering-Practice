{
 "cells": [
  {
   "cell_type": "code",
   "execution_count": null,
   "id": "4108729f",
   "metadata": {},
   "outputs": [],
   "source": [
    "import ollama\n",
    "import gradio as gr"
   ]
  },
  {
   "cell_type": "code",
   "execution_count": null,
   "id": "21123ea9",
   "metadata": {},
   "outputs": [],
   "source": [
    "MODEL = 'deepseek-v3.1:671b-cloud'\n",
    "system_message = \"You are a helpful assistant in a clothes store. You should try to gently encourage \\\n",
    "the customer to try items that are on sale. Hats are 60% off, and most other items are 50% off. \\\n",
    "For example, if the customer says 'I'm looking to buy a hat', \\\n",
    "you could reply something like, 'Wonderful - we have lots of hats - including several that are part of our sales event.'\\\n",
    "Encourage the customer to buy hats if they are unsure what to get.\""
   ]
  },
  {
   "cell_type": "markdown",
   "id": "bda0c6ac",
   "metadata": {},
   "source": [
    "# Reminder of the structure of prompt messages:\n",
    "\n",
    "[\n",
    "\n",
    "    {system},\n",
    "\n",
    "    {user},\n",
    "\n",
    "    {assistant},\n",
    "\n",
    "    {user}\n",
    "    \n",
    "]\n",
    "\n",
    "We will write a function chat(message, history) where: **message** is the prompt to use, **history** is a list of paris of user message with assistant's reply \n",
    "\n",
    "[\n",
    "\n",
    "    ['user', 'assistant'],\n",
    "\n",
    "    ['user', 'assistant']\n",
    "\n",
    "]"
   ]
  },
  {
   "cell_type": "code",
   "execution_count": null,
   "id": "965c8721",
   "metadata": {},
   "outputs": [],
   "source": [
    "def chat(message, history):\n",
    "    messages = [{'role':'system', 'content': system_message}]\n",
    "    for user_message, assistant_message in history:\n",
    "        messages.append({'role':'user', 'content': user_message})\n",
    "        messages.append({'role':'assistant', 'content': assistant_message})\n",
    "    messages.append({'role':'user', 'content': message})\n",
    "    \n",
    "    response = ollama.chat(model=MODEL, messages=messages, stream=True)\n",
    "    result = ''\n",
    "    for chunk in response:\n",
    "        result += chunk['message']['content']\n",
    "        yield result"
   ]
  },
  {
   "cell_type": "code",
   "execution_count": null,
   "id": "22df02a0",
   "metadata": {},
   "outputs": [],
   "source": [
    "# Gradio's chat structure\n",
    "\n",
    "view = gr.ChatInterface(fn = chat)\n",
    "view.launch()"
   ]
  }
 ],
 "metadata": {
  "kernelspec": {
   "display_name": "Python 3",
   "language": "python",
   "name": "python3"
  },
  "language_info": {
   "codemirror_mode": {
    "name": "ipython",
    "version": 3
   },
   "file_extension": ".py",
   "mimetype": "text/x-python",
   "name": "python",
   "nbconvert_exporter": "python",
   "pygments_lexer": "ipython3",
   "version": "3.13.5"
  }
 },
 "nbformat": 4,
 "nbformat_minor": 5
}
