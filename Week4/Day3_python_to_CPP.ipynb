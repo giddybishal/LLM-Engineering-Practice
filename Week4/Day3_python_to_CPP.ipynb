{
 "cells": [
  {
   "cell_type": "code",
   "execution_count": null,
   "id": "eb784b59",
   "metadata": {},
   "outputs": [],
   "source": [
    "import time\n",
    "import os\n",
    "from dotenv import load_dotenv\n",
    "import requests\n",
    "from IPython.display import display, Markdown"
   ]
  },
  {
   "cell_type": "code",
   "execution_count": null,
   "id": "ca278d16",
   "metadata": {},
   "outputs": [],
   "source": [
    "load_dotenv()\n",
    "hf_key = os.getenv('HF_KEY')\n",
    "hf_key"
   ]
  },
  {
   "cell_type": "code",
   "execution_count": null,
   "id": "e11eefc6",
   "metadata": {},
   "outputs": [],
   "source": [
    "python_code = \"\"\"\n",
    "    def libneiz_formula(iter):\n",
    "        sum = 0\n",
    "        for i in range(1,iter+1):\n",
    "            odd_num = 2*i-1\n",
    "            if i%2 == 1:\n",
    "                sum += (1/odd_num)\n",
    "            else:\n",
    "                sum -= (1/odd_num)\n",
    "        return sum*4\n",
    "\"\"\""
   ]
  },
  {
   "cell_type": "code",
   "execution_count": null,
   "id": "7a4361f2",
   "metadata": {},
   "outputs": [],
   "source": [
    "# start_time = time.time()\n",
    "# result = libneiz_formula(100_000_000)\n",
    "# end_time = time.time()\n",
    "# execution_time = end_time-start_time\n",
    "\n",
    "# print(f'The result is {result}')\n",
    "# print(f'And, the execution time is: {execution_time:.4f} seconds')"
   ]
  },
  {
   "cell_type": "code",
   "execution_count": null,
   "id": "e5c67a9c",
   "metadata": {},
   "outputs": [],
   "source": [
    "API_URL = \"https://router.huggingface.co/v1/chat/completions\"\n",
    "headers = {\n",
    "    \"Authorization\": f\"Bearer {hf_key}\",\n",
    "}\n",
    "MODEL = 'deepseek-ai/DeepSeek-V3.1:novita'\n",
    "\n",
    "system_prompt = \"\"\"\n",
    "    Your job is to convert the python code given to you by the user into C++ code. They expect you to return back the C++ code that does exactly the job that their python code does but they expect you C++ code to run faster due to optimized code as well as due to inherent speed of C++ compiler. Just give them the raw code, you do not need to add anything else ok. just give them the functioning code with everthing included for running it.\n",
    "    Also include the time test to see how long the c++ code will take.\n",
    "    \"\"\"\n",
    "user_prompt = f\"\"\"\n",
    "Can you convert this python code to C++ code:\n",
    "{python_code}\n",
    "\"\"\""
   ]
  },
  {
   "cell_type": "code",
   "execution_count": null,
   "id": "58b65d99",
   "metadata": {},
   "outputs": [],
   "source": [
    "messages = [\n",
    "    {'role': 'system', 'content': system_prompt},\n",
    "    {'role': 'user', 'content': user_prompt}\n",
    "]\n",
    "\n",
    "response = requests.post(API_URL, headers=headers, json={\n",
    "    \"messages\": messages,\n",
    "    \"model\": MODEL\n",
    "})"
   ]
  },
  {
   "cell_type": "code",
   "execution_count": null,
   "id": "3a2f3ad5",
   "metadata": {},
   "outputs": [],
   "source": [
    "response_json = response.json()\n",
    "result = response_json[\"choices\"][0][\"message\"][\"content\"]\n",
    "display(Markdown(result))"
   ]
  }
 ],
 "metadata": {
  "kernelspec": {
   "display_name": "Python 3",
   "language": "python",
   "name": "python3"
  },
  "language_info": {
   "codemirror_mode": {
    "name": "ipython",
    "version": 3
   },
   "file_extension": ".py",
   "mimetype": "text/x-python",
   "name": "python",
   "nbconvert_exporter": "python",
   "pygments_lexer": "ipython3",
   "version": "3.13.5"
  }
 },
 "nbformat": 4,
 "nbformat_minor": 5
}
