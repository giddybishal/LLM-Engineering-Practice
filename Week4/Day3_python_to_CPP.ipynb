{
 "cells": [
  {
   "cell_type": "code",
   "execution_count": null,
   "id": "eb784b59",
   "metadata": {},
   "outputs": [],
   "source": [
    "import time\n",
    "import os\n",
    "from dotenv import load_dotenv"
   ]
  },
  {
   "cell_type": "code",
   "execution_count": null,
   "id": "ca278d16",
   "metadata": {},
   "outputs": [],
   "source": [
    "load_dotenv()\n",
    "hf_key = os.getenv('HF_KEY')"
   ]
  },
  {
   "cell_type": "code",
   "execution_count": null,
   "id": "e11eefc6",
   "metadata": {},
   "outputs": [],
   "source": [
    "def libneiz_formula(iter):\n",
    "    sum = 0\n",
    "    for i in range(1,iter+1):\n",
    "        odd_num = 2*i-1\n",
    "        if i%2 == 1:\n",
    "            sum += (1/odd_num)\n",
    "        else:\n",
    "            sum -= (1/odd_num)\n",
    "    return sum*4"
   ]
  },
  {
   "cell_type": "code",
   "execution_count": null,
   "id": "7a4361f2",
   "metadata": {},
   "outputs": [],
   "source": [
    "start_time = time.time()\n",
    "result = libneiz_formula(100_000_000)\n",
    "end_time = time.time()\n",
    "execution_time = end_time-start_time\n",
    "\n",
    "print(f'The result is {result}')\n",
    "print(f'And, the execution time is: {execution_time:.4f} seconds')"
   ]
  },
  {
   "cell_type": "code",
   "execution_count": null,
   "id": "e5c67a9c",
   "metadata": {},
   "outputs": [],
   "source": []
  }
 ],
 "metadata": {
  "kernelspec": {
   "display_name": "Python 3",
   "language": "python",
   "name": "python3"
  },
  "language_info": {
   "codemirror_mode": {
    "name": "ipython",
    "version": 3
   },
   "file_extension": ".py",
   "mimetype": "text/x-python",
   "name": "python",
   "nbconvert_exporter": "python",
   "pygments_lexer": "ipython3",
   "version": "3.13.5"
  }
 },
 "nbformat": 4,
 "nbformat_minor": 5
}
