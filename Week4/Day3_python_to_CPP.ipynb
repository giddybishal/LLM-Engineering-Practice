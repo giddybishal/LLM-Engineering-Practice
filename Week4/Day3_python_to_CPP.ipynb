{
 "cells": [
  {
   "cell_type": "code",
   "execution_count": 21,
   "id": "eb784b59",
   "metadata": {},
   "outputs": [],
   "source": [
    "import time\n",
    "from huggingface_hub import InferenceClient\n",
    "import os\n",
    "from dotenv import load_dotenv\n",
    "from IPython.display import display, Markdown, clear_output"
   ]
  },
  {
   "cell_type": "code",
   "execution_count": 10,
   "id": "ca278d16",
   "metadata": {},
   "outputs": [],
   "source": [
    "load_dotenv()\n",
    "hf_key = os.getenv('HF_KEY')"
   ]
  },
  {
   "cell_type": "code",
   "execution_count": 11,
   "id": "e11eefc6",
   "metadata": {},
   "outputs": [],
   "source": [
    "python_code = \"\"\"\n",
    "    def libneiz_formula(iter):\n",
    "        sum = 0\n",
    "        for i in range(1,iter+1):\n",
    "            odd_num = 2*i-1\n",
    "            if i%2 == 1:\n",
    "                sum += (1/odd_num)\n",
    "            else:\n",
    "                sum -= (1/odd_num)\n",
    "        return sum*4\n",
    "\"\"\""
   ]
  },
  {
   "cell_type": "code",
   "execution_count": 12,
   "id": "7a4361f2",
   "metadata": {},
   "outputs": [],
   "source": [
    "# start_time = time.time()\n",
    "# result = libneiz_formula(100_000_000)\n",
    "# end_time = time.time()\n",
    "# execution_time = end_time-start_time\n",
    "\n",
    "# print(f'The result is {result}')\n",
    "# print(f'And, the execution time is: {execution_time:.4f} seconds')"
   ]
  },
  {
   "cell_type": "code",
   "execution_count": 13,
   "id": "e5c67a9c",
   "metadata": {},
   "outputs": [],
   "source": [
    "# => if you wish to use requests:\n",
    "\n",
    "# API_URL = \"https://router.huggingface.co/v1/chat/completions\"\n",
    "# headers = {\n",
    "#     \"Authorization\": f\"Bearer {hf_key}\",\n",
    "# }\n",
    "\n",
    "# messages = [\n",
    "#     {'role': 'system', 'content': system_prompt},\n",
    "#     {'role': 'user', 'content': user_prompt}\n",
    "# ]\n",
    "\n",
    "# response = requests.post(API_URL, headers=headers, json={\n",
    "#     \"messages\": messages,\n",
    "#     \"model\": MODEL\n",
    "# })\n",
    "\n",
    "system_prompt = \"\"\"\n",
    "    Your job is to convert the python code given to you by the user into C++ code. They expect you to return back the C++ code that does exactly the job that their python code does but they expect you C++ code to run faster due to optimized code as well as due to inherent speed of C++ compiler. Just give them the raw code, you do not need to add anything else ok. just give them the functioning code with everthing included for running it.\n",
    "    Also include the time test to see how long the c++ code will take.\n",
    "    \"\"\"\n",
    "user_prompt = f\"\"\"\n",
    "Can you convert this python code to C++ code:\n",
    "{python_code}\n",
    "\"\"\""
   ]
  },
  {
   "cell_type": "code",
   "execution_count": 23,
   "id": "58b65d99",
   "metadata": {},
   "outputs": [],
   "source": [
    "# Using huggingface_hub's InferenceClient\n",
    "\n",
    "MODEL = 'deepseek-ai/DeepSeek-V3.1'\n",
    "\n",
    "client = InferenceClient(\n",
    "    provider='novita',\n",
    "    api_key=hf_key\n",
    ")\n",
    "\n",
    "# => for non-stream result:\n",
    "\n",
    "# completion = client.chat.completions.create(\n",
    "#     model=\"deepseek-ai/DeepSeek-V3.1\",\n",
    "#     messages=[\n",
    "#         {\n",
    "#             \"role\": \"user\",\n",
    "#             \"content\": \"What is the capital of France?\"\n",
    "#         }\n",
    "#     ],\n",
    "# )\n",
    "\n",
    "# print(completion.choices[0].message)\n",
    "\n",
    "# -> for stream result:\n",
    "\n",
    "stream = client.chat.completions.create(\n",
    "    model=MODEL,\n",
    "    messages=[\n",
    "        {\n",
    "            \"role\": \"system\",\n",
    "            \"content\": system_prompt\n",
    "        },\n",
    "        {\n",
    "            \"role\": \"user\",\n",
    "            \"content\": user_prompt\n",
    "        }\n",
    "    ],\n",
    "    stream=True,\n",
    ")"
   ]
  },
  {
   "cell_type": "code",
   "execution_count": 24,
   "id": "3a2f3ad5",
   "metadata": {},
   "outputs": [
    {
     "data": {
      "text/markdown": [
       "```cpp\n",
       "#include <iostream>\n",
       "#include <chrono>\n",
       "\n",
       "double libneiz_formula(int iter) {\n",
       "    double sum = 0.0;\n",
       "    for (int i = 1; i <= iter; i++) {\n",
       "        int odd_num = 2 * i - 1;\n",
       "        if (i % 2 == 1) {\n",
       "            sum += 1.0 / odd_num;\n",
       "        } else {\n",
       "            sum -= 1.0 / odd_num;\n",
       "        }\n",
       "    }\n",
       "    return sum * 4.0;\n",
       "}\n",
       "\n",
       "int main() {\n",
       "    int iterations = 1000000;\n",
       "    \n",
       "    auto start = std::chrono::high_resolution_clock::now();\n",
       "    double result = libneiz_formula(iterations);\n",
       "    auto end = std::chrono::high_resolution_clock::now();\n",
       "    \n",
       "    std::chrono::duration<double> duration = end - start;\n",
       "    \n",
       "    std::cout << \"Result: \" << result << std::endl;\n",
       "    std::cout << \"Time taken: \" << duration.count() << \" seconds\" << std::endl;\n",
       "    \n",
       "    return 0;\n",
       "}\n",
       "```"
      ],
      "text/plain": [
       "<IPython.core.display.Markdown object>"
      ]
     },
     "metadata": {},
     "output_type": "display_data"
    }
   ],
   "source": [
    "full_content = \"\"\n",
    "\n",
    "for chunk in stream:\n",
    "    try:\n",
    "        content = chunk.choices[0].delta.content\n",
    "        if content:\n",
    "            full_content += content\n",
    "            clear_output(wait=True)\n",
    "            display(Markdown(full_content))\n",
    "    except (IndexError, AttributeError):\n",
    "        continue"
   ]
  }
 ],
 "metadata": {
  "kernelspec": {
   "display_name": "Python 3",
   "language": "python",
   "name": "python3"
  },
  "language_info": {
   "codemirror_mode": {
    "name": "ipython",
    "version": 3
   },
   "file_extension": ".py",
   "mimetype": "text/x-python",
   "name": "python",
   "nbconvert_exporter": "python",
   "pygments_lexer": "ipython3",
   "version": "3.13.5"
  }
 },
 "nbformat": 4,
 "nbformat_minor": 5
}
