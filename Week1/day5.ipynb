{
 "cells": [
  {
   "cell_type": "code",
   "execution_count": 136,
   "id": "af92ddc6",
   "metadata": {},
   "outputs": [],
   "source": [
    "import ollama\n",
    "from bs4 import BeautifulSoup\n",
    "import requests\n",
    "import json\n",
    "from IPython.display import Markdown, display\n",
    "import time"
   ]
  },
  {
   "cell_type": "code",
   "execution_count": 137,
   "id": "545d4ccf",
   "metadata": {},
   "outputs": [],
   "source": [
    "def fetch_website(url):\n",
    "    response = requests.get(url)\n",
    "    soup = BeautifulSoup(response.content, 'html.parser')\n",
    "    title = soup.title.string if soup.title else 'No title found'\n",
    "    if soup.body:\n",
    "        for irrelevant in soup.body(['script', 'style', 'img', 'input']):\n",
    "            irrelevant.decompose()\n",
    "        text = soup.body.get_text(separator='\\n', strip=True)\n",
    "    else:\n",
    "        text = ''\n",
    "    links = [link.get('href') for link in soup.find_all('a')]\n",
    "    return (title + '\\n\\n' + text)[:2_000], [link for link in links]\n"
   ]
  },
  {
   "cell_type": "code",
   "execution_count": 138,
   "id": "8e62a6de",
   "metadata": {},
   "outputs": [],
   "source": [
    "def get_links_user_prompt(url):\n",
    "    user_prompt = f\"\"\"\n",
    "Here is the list of links on the website {url} -\n",
    "Please decide which of these are relevant web links for a brochure about the company, \n",
    "respond with the full https URL in JSON format.\n",
    "Do not include Terms of Service, Privacy, email links.\n",
    "\n",
    "Links (some might be relative links):\n",
    "\n",
    "\"\"\"\n",
    "    links = fetch_website(url)[1]\n",
    "    user_prompt += \"\\n\".join(links)\n",
    "    return user_prompt"
   ]
  },
  {
   "cell_type": "code",
   "execution_count": 139,
   "id": "0a05b43a",
   "metadata": {},
   "outputs": [],
   "source": [
    "url = 'https://anthropic.com'\n",
    "\n",
    "link_system_prompt = \"\"\"\n",
    "You are provided with a list of links found on a webpage.\n",
    "You are able to decide which of the links would be most relevant to include in a brochure about the company,\n",
    "such as links to an About page, or a Company page, or Careers/Jobs pages.\n",
    "You should respond in JSON as in this example and nothing else:\n",
    "\n",
    "{\n",
    "    \"links\": [\n",
    "        {\"type\": \"about page\", \"url\": \"https://full.url/goes/here/about\"},\n",
    "        {\"type\": \"careers page\", \"url\": \"https://another.full.url/careers\"}\n",
    "    ]\n",
    "}\n",
    "\"\"\"\n",
    "\n",
    "message = [\n",
    "    {'role':'system', 'content': link_system_prompt},\n",
    "    {'role': 'user', 'content': get_links_user_prompt(url)}\n",
    "]"
   ]
  },
  {
   "cell_type": "code",
   "execution_count": 140,
   "id": "d70bec67",
   "metadata": {},
   "outputs": [],
   "source": [
    "def llm_relevant_links():\n",
    "    response = ollama.chat(model='llama3.1', messages=message, stream=False)\n",
    "    result = response.message.content\n",
    "    links = json.loads(result)\n",
    "    return links"
   ]
  },
  {
   "cell_type": "code",
   "execution_count": 141,
   "id": "1502307c",
   "metadata": {},
   "outputs": [],
   "source": [
    "def fetch_page_and_all_relevant_links():\n",
    "    contents = fetch_website(url)[0]\n",
    "    relevant_links = llm_relevant_links()\n",
    "    result = f'## Landing Page:\\n\\n{contents}\\n## Relevant Links:\\n'\n",
    "    for link in relevant_links['links']:\n",
    "        result += f'\\n\\n### Link: {link['type']}\\n'\n",
    "        result += fetch_website(link['url'])[0]\n",
    "    return result"
   ]
  },
  {
   "cell_type": "code",
   "execution_count": 142,
   "id": "5d2c63ac",
   "metadata": {},
   "outputs": [],
   "source": [
    "# brochure_system_prompt = \"\"\"\n",
    "# You are an assistant that analyzes the contents of several relevant pages from a company website\n",
    "# and creates a short brochure about the company for prospective customers, investors and recruits.\n",
    "# Respond in markdown without code blocks.\n",
    "# Include details of company culture, customers and careers/jobs if you have the information.\n",
    "# \"\"\"\n",
    "\n",
    "# Or uncomment the lines below for a more humorous brochure - this demonstrates how easy it is to incorporate 'tone':\n",
    "\n",
    "brochure_system_prompt = \"\"\"\n",
    "You are an assistant that analyzes the contents of several relevant pages from a company website\n",
    "and creates a short, humorous, entertaining, witty brochure about the company for prospective customers, investors and recruits.\n",
    "Respond in markdown without code blocks.\n",
    "Include details of company culture, customers and careers/jobs if you have the information.\n",
    "\"\"\""
   ]
  },
  {
   "cell_type": "code",
   "execution_count": null,
   "id": "c3b5c291",
   "metadata": {},
   "outputs": [],
   "source": [
    "def get_brochure_user_prompt(company_name):\n",
    "    user_prompt = f\"\"\"\n",
    "You are looking at a company called: {company_name}\n",
    "Here are the contents of its landing page and other relevant pages;\n",
    "use this information to build a short brochure of the company in markdown without code blocks.\\n\\n\n",
    "\"\"\"\n",
    "    user_prompt += fetch_page_and_all_relevant_links()\n",
    "    user_prompt = user_prompt[:5_000] # Truncate if more than 5,000 characters\n",
    "    return user_prompt"
   ]
  },
  {
   "cell_type": "code",
   "execution_count": 144,
   "id": "36b3358d",
   "metadata": {},
   "outputs": [
    {
     "data": {
      "text/markdown": [
       "**Welcome to Anthropic: Where AI Meets Humanity**\n",
       "\n",
       "At Anthropic, we're on a mission to create AI that benefits humanity's long-term well-being. Our team of experts is dedicated to pushing the boundaries of what's possible with artificial intelligence while ensuring its safe and responsible use.\n",
       "\n",
       "**Our Approach**\n",
       "\n",
       "We believe that designing powerful technologies requires both bold steps forward and intentional pauses to consider the effects. That's why we're committed to transparency, accountability, and continuous learning as we develop our AI research and products.\n",
       "\n",
       "**Meet Claude: The Best Model in the World**\n",
       "\n",
       "Claude is our flagship model, designed for agents, coding, and computer use. With its unparalleled capabilities, Claude is a game-changer for anyone looking to unlock the full potential of AI.\n",
       "\n",
       "**Our Culture**\n",
       "\n",
       "At Anthropic, we value collaboration, creativity, and a passion for learning. Our team is comprised of talented individuals from diverse backgrounds who share our vision of creating AI that benefits humanity. We're always looking for like-minded individuals to join us on this journey.\n",
       "\n",
       "**Careers at Anthropic**\n",
       "\n",
       "Join our team of innovators and contribute to the development of cutting-edge AI research and products. Check out our Careers page to learn more about our current openings and how you can be a part of our mission.\n",
       "\n",
       "**Get Involved**\n",
       "\n",
       "Stay up-to-date with the latest news, updates, and announcements from Anthropic. Follow us on social media or sign up for our newsletter to stay informed about our progress and initiatives.\n",
       "\n",
       "**Let's Shape the Future Together**\n",
       "\n",
       "At Anthropic, we're committed to creating a future where AI is a force for good. Join us in our mission to secure the benefits of AI while mitigating its risks. Let's shape the future together!"
      ],
      "text/plain": [
       "<IPython.core.display.Markdown object>"
      ]
     },
     "metadata": {},
     "output_type": "display_data"
    }
   ],
   "source": [
    "response = ollama.chat(model='llama3.1',\n",
    "                messages=[\n",
    "                    {'role': 'system', 'content': brochure_system_prompt},\n",
    "                    {'role': 'user', 'content': get_brochure_user_prompt('anthropic')}\n",
    "                ],\n",
    "                stream=True)\n",
    "# create a display placeholder\n",
    "display_handle = display(Markdown(\"\"), display_id=True)\n",
    "\n",
    "full_text = \"\"\n",
    "for chunk in response:\n",
    "    full_text += chunk['message']['content']\n",
    "    # update the same output cell in real-time\n",
    "    display_handle.update(Markdown(full_text))\n",
    "    time.sleep(0.05)  # optional small delay to smooth rendering"
   ]
  }
 ],
 "metadata": {
  "kernelspec": {
   "display_name": "Python 3",
   "language": "python",
   "name": "python3"
  },
  "language_info": {
   "codemirror_mode": {
    "name": "ipython",
    "version": 3
   },
   "file_extension": ".py",
   "mimetype": "text/x-python",
   "name": "python",
   "nbconvert_exporter": "python",
   "pygments_lexer": "ipython3",
   "version": "3.13.5"
  }
 },
 "nbformat": 4,
 "nbformat_minor": 5
}
