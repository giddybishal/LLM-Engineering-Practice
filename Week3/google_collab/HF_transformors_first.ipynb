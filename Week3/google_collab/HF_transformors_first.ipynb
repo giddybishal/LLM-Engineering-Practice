{
  "nbformat": 4,
  "nbformat_minor": 0,
  "metadata": {
    "colab": {
      "provenance": [],
      "gpuType": "T4"
    },
    "kernelspec": {
      "name": "python3",
      "display_name": "Python 3"
    },
    "language_info": {
      "name": "python"
    },
    "accelerator": "GPU"
  },
  "cells": [
    {
      "cell_type": "code",
      "source": [
        "!pip install -q transformers datasets diffusers"
      ],
      "metadata": {
        "id": "TzHB9UMhP7vQ"
      },
      "execution_count": null,
      "outputs": []
    },
    {
      "cell_type": "code",
      "source": [
        "# imports\n",
        "\n",
        "import torch\n",
        "from transformers import pipeline\n",
        "from diffusers import DiffusionPipeline\n",
        "from datasets import load_dataset\n",
        "import soundfile as sf\n",
        "from IPython.display import Audio"
      ],
      "metadata": {
        "id": "wnKyLXPYSPXY"
      },
      "execution_count": null,
      "outputs": []
    },
    {
      "cell_type": "code",
      "source": [
        "# Sentiment Analysis\n",
        "\n",
        "classifier = pipeline(\"sentiment-analysis\", device='cuda')\n",
        "result = classifier(\"I'm super excited to be on the way to LLM mastery\")\n",
        "print(result)"
      ],
      "metadata": {
        "id": "JYlzlWXQShmV"
      },
      "execution_count": null,
      "outputs": []
    },
    {
      "cell_type": "code",
      "source": [
        "# Named Entity Recognition\n",
        "\n",
        "ner = pipeline('ner', grouped_entities= True, device='cuda')\n",
        "result = ner(\"Barack Obama was the 44th president of the US\")\n",
        "print(result)"
      ],
      "metadata": {
        "id": "REOHBl81VWwH"
      },
      "execution_count": null,
      "outputs": []
    },
    {
      "cell_type": "code",
      "source": [
        "# question answering with Context\n",
        "\n",
        "question_answer = pipeline('question-answering', device='cuda')\n",
        "result = question_answer(question='Who was the 44th president of US', context='Barack Obama was the 44th president of the US')\n",
        "print(result)"
      ],
      "metadata": {
        "id": "cXCMpwFCbbQJ"
      },
      "execution_count": null,
      "outputs": []
    },
    {
      "cell_type": "code",
      "source": [
        "# text Summarization\n",
        "\n",
        "summarizer = pipeline('summarization', device='cuda')\n",
        "text = \"\"\"The seemingly unimpressive Saitama has a rather unique hobby: being a hero. In order to pursue his childhood dream, Saitama relentlessly trained for three years, losing all of his hair in the process. Now, Saitama is so powerful, he can defeat any enemy with just one punch. However, having no one capable of matching his strength has led Saitama to an unexpected problem—he is no longer able to enjoy the thrill of battling and has become quite bored.\n",
        "One day, Saitama catches the attention of 19-year-old cyborg Genos, who witnesses his power and wishes to become Saitama's disciple. Genos proposes that the two join the Hero Association in order to become certified heroes that will be recognized for their positive contributions to society. Saitama, who is shocked that no one knows who he is, quickly agrees. Meeting new allies and taking on new foes, Saitama embarks on a new journey as a member of the Hero Association to experience the excitement of battle he once felt.\"\"\"\n",
        "result = summarizer(text)\n",
        "result"
      ],
      "metadata": {
        "id": "CzMrOLeVcfN3"
      },
      "execution_count": null,
      "outputs": []
    },
    {
      "cell_type": "code",
      "source": [
        "# Translation\n",
        "\n",
        "translator = pipeline('translation_en_to_fr', device='cuda')\n",
        "text = '''I like cute cats'''\n",
        "result = translator(text)\n",
        "result"
      ],
      "metadata": {
        "id": "4XH9a2ez87V8"
      },
      "execution_count": null,
      "outputs": []
    },
    {
      "cell_type": "code",
      "source": [
        "# classification\n",
        "\n",
        "classifier = pipeline('zero-shot-classification', device = 'cuda')\n",
        "result = classifier('Hugging faces transformers libary is amazing',\n",
        "                    candidate_labels = ['technology', 'sports', 'politics'])\n",
        "print(result)"
      ],
      "metadata": {
        "id": "YUh_u6sf94CT"
      },
      "execution_count": null,
      "outputs": []
    },
    {
      "cell_type": "code",
      "source": [
        "# Text Generation\n",
        "\n",
        "generator = pipeline('text-generation', device='cuda')\n",
        "result = generator('If there is one thing I want yout to remember about using HugginFace pipleines, it is that')\n",
        "print(result)"
      ],
      "metadata": {
        "id": "ihMJ7djS-sXw"
      },
      "execution_count": null,
      "outputs": []
    },
    {
      "cell_type": "code",
      "source": [
        "# Image Generation\n",
        "\n",
        "image_gen = DiffusionPipeline.from_pretrained(\n",
        "    'stabilityai/stable-diffusion-2',\n",
        "    torch_dtype =  torch.float16,\n",
        "    use_safetensors = True,\n",
        "    variant = 'fp16',\n",
        ").to('cuda')\n",
        "\n",
        "text = 'tokyo'\n",
        "image = image_gen(prompt=text).images[0]\n",
        "image"
      ],
      "metadata": {
        "id": "al_6Ld-1_cqt"
      },
      "execution_count": null,
      "outputs": []
    },
    {
      "cell_type": "code",
      "source": [
        "# audio generation\n",
        "# not working for now, for reasons...\n",
        "\n",
        "# synthesizer = pipeline('text-to-speech', 'microsoft/speecht5_tts', device='cuda')\n",
        "\n",
        "# embeddings_dataset = load_dataset('Matthijs/cmu-arctic-xvectors', split='validation')\n",
        "# speaker_embedding = torch.tensor(embeddings_dataset[7306]['xvector']).unsqueeze(0)\n",
        "\n",
        "# speech = synthesizer('Hi you bro go to fore yo', forward_params = {'speaker_embeddings': speaker_embedding})\n",
        "\n",
        "# sf.write('speech.wav', speech['audio'], samplerate=speech['sampling_rate'])\n",
        "# Audio('speech.wav')"
      ],
      "metadata": {
        "id": "HzThSwLQATx0"
      },
      "execution_count": null,
      "outputs": []
    }
  ]
}