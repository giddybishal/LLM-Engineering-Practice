{
  "cells": [
    {
      "cell_type": "code",
      "source": [
        "!pip install -q -U bitsandbytes"
      ],
      "metadata": {
        "id": "R9lqQ-0Eg-89"
      },
      "execution_count": null,
      "outputs": []
    },
    {
      "cell_type": "code",
      "execution_count": null,
      "metadata": {
        "id": "p8jN0-KyZqeT"
      },
      "outputs": [],
      "source": [
        "from google.colab import userdata\n",
        "from google.colab import drive\n",
        "from huggingface_hub import login\n",
        "from transformers import pipeline, BitsAndBytesConfig, AutoTokenizer, AutoModelForCausalLM, TextStreamer\n",
        "import torch\n",
        "from IPython.display import display, Markdown"
      ]
    },
    {
      "cell_type": "code",
      "source": [
        "quant_config = BitsAndBytesConfig(\n",
        "    load_in_4bit=True,\n",
        "    bnb_4bit_use_double_quant=True,\n",
        "    bnb_4bit_compute_dtype=torch.bfloat16,\n",
        "    bnb_4bit_quant_type=\"nf4\"\n",
        ")"
      ],
      "metadata": {
        "id": "knFHt626hESW"
      },
      "execution_count": null,
      "outputs": []
    },
    {
      "cell_type": "code",
      "execution_count": null,
      "metadata": {
        "id": "pmhZnalYb_fc"
      },
      "outputs": [],
      "source": [
        "drive.mount(\"/content/drive\")\n",
        "audio_filename = \"/content/drive/MyDrive/Colab Notebooks/denver_extract.mp3\""
      ]
    },
    {
      "cell_type": "code",
      "execution_count": null,
      "metadata": {
        "id": "kcf61Yv7hG20"
      },
      "outputs": [],
      "source": [
        "# Constants\n",
        "\n",
        "LLAMA = \"meta-llama/Llama-3.2-1B-Instruct\""
      ]
    },
    {
      "cell_type": "code",
      "execution_count": null,
      "metadata": {
        "id": "gjx1Gg5ocrP0"
      },
      "outputs": [],
      "source": [
        "# Sign in to HuggingFace Hub\n",
        "\n",
        "hf_token = userdata.get('HF_TOKEN')\n",
        "login(hf_token, add_to_git_credential=True)"
      ]
    },
    {
      "cell_type": "code",
      "execution_count": null,
      "metadata": {
        "id": "zujtXikfdvfF"
      },
      "outputs": [],
      "source": [
        "pipe = pipeline(\n",
        "    \"automatic-speech-recognition\",\n",
        "    model=\"openai/whisper-small.en\",\n",
        "    dtype=torch.float16,\n",
        "    device='cuda',\n",
        "    return_timestamps=True\n",
        ")\n",
        "\n",
        "result = pipe(audio_filename)\n",
        "transcription = result[\"text\"]\n",
        "print(transcription)"
      ]
    },
    {
      "cell_type": "code",
      "execution_count": null,
      "metadata": {
        "id": "PwfP3P7zewpq"
      },
      "outputs": [],
      "source": [
        "system_message = \"\"\"\n",
        "You produce minutes of meetings from transcripts, with summary, key discussion points,\n",
        "takeaways and action items with owners, in markdown format without code blocks.\n",
        "\"\"\"\n",
        "\n",
        "user_prompt = f\"\"\"\n",
        "Below is an extract transcript of a Denver council meeting.\n",
        "Please write minutes in markdown without code blocks, including:\n",
        "- a summary with attendees, location and date\n",
        "- discussion points\n",
        "- takeaways\n",
        "- action items with owners\n",
        "\n",
        "Transcription:\n",
        "{transcription}\n",
        "\"\"\"\n",
        "\n",
        "messages = [\n",
        "    {\"role\": \"system\", \"content\": system_message},\n",
        "    {\"role\": \"user\", \"content\": user_prompt}\n",
        "  ]"
      ]
    },
    {
      "cell_type": "code",
      "execution_count": null,
      "metadata": {
        "id": "ugz9Hq6LgOTM"
      },
      "outputs": [],
      "source": [
        "# quant_config = BitsAndBytesConfig(\n",
        "#     load_in_4bit=True,\n",
        "#     bnb_4bit_use_double_quant=True,\n",
        "#     bnb_4bit_compute_dtype=torch.bfloat16,\n",
        "#     bnb_4bit_quant_type=\"nf4\"\n",
        "# )"
      ]
    },
    {
      "cell_type": "code",
      "execution_count": null,
      "metadata": {
        "id": "Wd8P_PxrgSoQ"
      },
      "outputs": [],
      "source": [
        "tokenizer = AutoTokenizer.from_pretrained(LLAMA)\n",
        "tokenizer.pad_token = tokenizer.eos_token\n",
        "inputs = tokenizer.apply_chat_template(messages, return_tensors=\"pt\").to(\"cuda\")\n",
        "streamer = TextStreamer(tokenizer)\n",
        "model = AutoModelForCausalLM.from_pretrained(LLAMA, device_map=\"auto\", quantization_config=quant_config)\n",
        "outputs = model.generate(inputs, max_new_tokens=2000, streamer=streamer)"
      ]
    },
    {
      "cell_type": "code",
      "execution_count": null,
      "metadata": {
        "id": "BspGUYszg3Zi"
      },
      "outputs": [],
      "source": [
        "response = tokenizer.decode(outputs[0], skip_special_tokens=True)\n",
        "reqd_response = response.split('assistant\\n\\n')[1]"
      ]
    },
    {
      "cell_type": "code",
      "source": [
        "reqd_response"
      ],
      "metadata": {
        "id": "nmu5cPlsnbHH"
      },
      "execution_count": null,
      "outputs": []
    },
    {
      "cell_type": "code",
      "source": [
        "display(Markdown(reqd_response))"
      ],
      "metadata": {
        "id": "C--Ex5Pim6Hm"
      },
      "execution_count": null,
      "outputs": []
    }
  ],
  "metadata": {
    "accelerator": "GPU",
    "colab": {
      "gpuType": "T4",
      "provenance": []
    },
    "kernelspec": {
      "display_name": "Python 3",
      "name": "python3"
    },
    "language_info": {
      "name": "python"
    }
  },
  "nbformat": 4,
  "nbformat_minor": 0
}